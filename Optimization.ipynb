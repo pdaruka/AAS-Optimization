{
 "cells": [
  {
   "cell_type": "code",
   "execution_count": 5,
   "id": "04e32bdd-c864-4247-a7b7-7e8ec5bbbf5a",
   "metadata": {},
   "outputs": [
    {
     "name": "stdout",
     "output_type": "stream",
     "text": [
      "Looking in indexes: https://artifactory-haproxy.service.intradsm1.consul.csnzoo.com:8099/artifactory/api/pypi/python/simple, https://artifactory-haproxy.service.intradsm1.consul.csnzoo.com:8099/artifactory/api/pypi/pypi-mirror/simple\n",
      "Collecting pulp\n",
      "  Downloading https://artifactory-haproxy.service.intradsm1.consul.csnzoo.com:8099/artifactory/api/pypi/pypi-mirror/packages/packages/a6/60/b91acaa7995bfcd72f1739ea2b0f5cda707329e17f0b7f921fd8acc79889/PuLP-2.7.0-py3-none-any.whl (14.3 MB)\n",
      "\u001b[2K     \u001b[90m━━━━━━━━━━━━━━━━━━━━━━━━━━━━━━━━━━━━━━━━\u001b[0m \u001b[32m14.3/14.3 MB\u001b[0m \u001b[31m33.4 MB/s\u001b[0m eta \u001b[36m0:00:00\u001b[0m00:01\u001b[0m00:01\u001b[0m\n",
      "\u001b[?25hInstalling collected packages: pulp\n",
      "Successfully installed pulp-2.7.0\n",
      "Note: you may need to restart the kernel to use updated packages.\n"
     ]
    }
   ],
   "source": [
    "pip install pulp"
   ]
  },
  {
   "cell_type": "code",
   "execution_count": 6,
   "id": "15ab0385-9db3-4f93-865c-79998891425d",
   "metadata": {},
   "outputs": [],
   "source": [
    "import pandas as pd\n",
    "import pulp"
   ]
  },
  {
   "cell_type": "code",
   "execution_count": 7,
   "id": "b08e09b6-0ebc-4771-b90b-df08b3b59dcf",
   "metadata": {},
   "outputs": [],
   "source": [
    "# define input data\n",
    "carriers = ['Carrier1', 'Carrier2', 'Carrier3', 'Carrier4'] # list of carrier names\n",
    "origins = ['Origin1', 'Origin2', 'Origin3', 'Origin4'] # list of origin names\n",
    "destinations = ['Destination1', 'Destination2', 'Destination3', 'Destination4'] # list of destination names\n",
    "freight_data = pd.DataFrame({'Origin': ['Origin1', 'Origin2', 'Origin2', 'Origin3', 'Origin3', 'Origin3', 'Origin4', 'Origin4'],\n",
    "                             'Destination': ['Destination1', 'Destination1', 'Destination2', 'Destination2', 'Destination3', 'Destination4', 'Destination3', 'Destination4'],\n",
    "                             'Carrier': ['Carrier1', 'Carrier2', 'Carrier3', 'Carrier4', 'Carrier1', 'Carrier2', 'Carrier3', 'Carrier4'],\n",
    "                             'Capacity': [200, 300, 400, 100, 150, 250, 200, 300],\n",
    "                             'Demand': [150, 100, 200, 100, 250, 150, 200, 100]})"
   ]
  },
  {
   "cell_type": "code",
   "execution_count": 8,
   "id": "4cfc54df-7964-414b-82d3-3a08afd2c098",
   "metadata": {},
   "outputs": [
    {
     "data": {
      "text/html": [
       "<div>\n",
       "<style scoped>\n",
       "    .dataframe tbody tr th:only-of-type {\n",
       "        vertical-align: middle;\n",
       "    }\n",
       "\n",
       "    .dataframe tbody tr th {\n",
       "        vertical-align: top;\n",
       "    }\n",
       "\n",
       "    .dataframe thead th {\n",
       "        text-align: right;\n",
       "    }\n",
       "</style>\n",
       "<table border=\"1\" class=\"dataframe\">\n",
       "  <thead>\n",
       "    <tr style=\"text-align: right;\">\n",
       "      <th></th>\n",
       "      <th>Origin</th>\n",
       "      <th>Destination</th>\n",
       "      <th>Carrier</th>\n",
       "      <th>Capacity</th>\n",
       "      <th>Demand</th>\n",
       "    </tr>\n",
       "  </thead>\n",
       "  <tbody>\n",
       "    <tr>\n",
       "      <th>0</th>\n",
       "      <td>Origin1</td>\n",
       "      <td>Destination1</td>\n",
       "      <td>Carrier1</td>\n",
       "      <td>200</td>\n",
       "      <td>150</td>\n",
       "    </tr>\n",
       "    <tr>\n",
       "      <th>1</th>\n",
       "      <td>Origin2</td>\n",
       "      <td>Destination1</td>\n",
       "      <td>Carrier2</td>\n",
       "      <td>300</td>\n",
       "      <td>100</td>\n",
       "    </tr>\n",
       "    <tr>\n",
       "      <th>2</th>\n",
       "      <td>Origin2</td>\n",
       "      <td>Destination2</td>\n",
       "      <td>Carrier3</td>\n",
       "      <td>400</td>\n",
       "      <td>200</td>\n",
       "    </tr>\n",
       "    <tr>\n",
       "      <th>3</th>\n",
       "      <td>Origin3</td>\n",
       "      <td>Destination2</td>\n",
       "      <td>Carrier4</td>\n",
       "      <td>100</td>\n",
       "      <td>100</td>\n",
       "    </tr>\n",
       "    <tr>\n",
       "      <th>4</th>\n",
       "      <td>Origin3</td>\n",
       "      <td>Destination3</td>\n",
       "      <td>Carrier1</td>\n",
       "      <td>150</td>\n",
       "      <td>250</td>\n",
       "    </tr>\n",
       "    <tr>\n",
       "      <th>5</th>\n",
       "      <td>Origin3</td>\n",
       "      <td>Destination4</td>\n",
       "      <td>Carrier2</td>\n",
       "      <td>250</td>\n",
       "      <td>150</td>\n",
       "    </tr>\n",
       "    <tr>\n",
       "      <th>6</th>\n",
       "      <td>Origin4</td>\n",
       "      <td>Destination3</td>\n",
       "      <td>Carrier3</td>\n",
       "      <td>200</td>\n",
       "      <td>200</td>\n",
       "    </tr>\n",
       "    <tr>\n",
       "      <th>7</th>\n",
       "      <td>Origin4</td>\n",
       "      <td>Destination4</td>\n",
       "      <td>Carrier4</td>\n",
       "      <td>300</td>\n",
       "      <td>100</td>\n",
       "    </tr>\n",
       "  </tbody>\n",
       "</table>\n",
       "</div>"
      ],
      "text/plain": [
       "    Origin   Destination   Carrier  Capacity  Demand\n",
       "0  Origin1  Destination1  Carrier1       200     150\n",
       "1  Origin2  Destination1  Carrier2       300     100\n",
       "2  Origin2  Destination2  Carrier3       400     200\n",
       "3  Origin3  Destination2  Carrier4       100     100\n",
       "4  Origin3  Destination3  Carrier1       150     250\n",
       "5  Origin3  Destination4  Carrier2       250     150\n",
       "6  Origin4  Destination3  Carrier3       200     200\n",
       "7  Origin4  Destination4  Carrier4       300     100"
      ]
     },
     "execution_count": 8,
     "metadata": {},
     "output_type": "execute_result"
    }
   ],
   "source": [
    "freight_data"
   ]
  },
  {
   "cell_type": "code",
   "execution_count": 10,
   "id": "634ea145-a7e1-4291-899c-774adabe1b25",
   "metadata": {},
   "outputs": [],
   "source": [
    "# create the optimization model\n",
    "model= pulp.LpProblem('Carrier Allocation', pulp.LpMinimize)"
   ]
  },
  {
   "cell_type": "code",
   "execution_count": 11,
   "id": "651f75a5-931b-4fdc-8b1a-9f6aeb1ada2c",
   "metadata": {},
   "outputs": [],
   "source": [
    "# create decision variables\n",
    "allocation_vars= pulp.LpVariable.dicts(\"Allocation\", [(o, d, c) for o in origins for d in destinations for c in carriers], \n",
    "                                        lowBound=0, cat='Integer')"
   ]
  },
  {
   "cell_type": "code",
   "execution_count": 12,
   "id": "6c66c1e4-5eb8-4d03-845a-f1d9ec0a8bda",
   "metadata": {},
   "outputs": [],
   "source": [
    "# define the objective function\n",
    "model+= pulp.lpSum([allocation_vars[(o, d, c)] for o in origins for d in destinations for c in carriers])"
   ]
  },
  {
   "cell_type": "code",
   "execution_count": 14,
   "id": "dd8527fe-f0c6-4931-859b-7aa17b8f367e",
   "metadata": {},
   "outputs": [
    {
     "ename": "IndexError",
     "evalue": "index 0 is out of bounds for axis 0 with size 0",
     "output_type": "error",
     "traceback": [
      "\u001b[0;31m---------------------------------------------------------------------------\u001b[0m",
      "\u001b[0;31mIndexError\u001b[0m                                Traceback (most recent call last)",
      "\u001b[0;32m/tmp/ipykernel_9646/3590442013.py\u001b[0m in \u001b[0;36m<module>\u001b[0;34m\u001b[0m\n\u001b[1;32m      4\u001b[0m         model+= pulp.lpSum([allocation_vars[(o, d, c)] for c in carriers])<=freight_data.loc[(freight_data['Origin'] == o) & \n\u001b[1;32m      5\u001b[0m                                                                                                   \u001b[0;34m(\u001b[0m\u001b[0mfreight_data\u001b[0m\u001b[0;34m[\u001b[0m\u001b[0;34m'Destination'\u001b[0m\u001b[0;34m]\u001b[0m \u001b[0;34m==\u001b[0m \u001b[0md\u001b[0m\u001b[0;34m)\u001b[0m\u001b[0;34m,\u001b[0m\u001b[0;34m\u001b[0m\u001b[0;34m\u001b[0m\u001b[0m\n\u001b[0;32m----> 6\u001b[0;31m                                                                                                   'Capacity'].values[0]\n\u001b[0m",
      "\u001b[0;31mIndexError\u001b[0m: index 0 is out of bounds for axis 0 with size 0"
     ]
    }
   ],
   "source": [
    "# add capacity constraints\n",
    "for o in origins:\n",
    "    for d in destinations:\n",
    "        model+= pulp.lpSum([allocation_vars[(o, d, c)] for c in carriers])<=freight_data.loc[(freight_data['Origin'] == o) & \n",
    "                                                                                                  (freight_data['Destination'] == d),\n",
    "                                                                                                  'Capacity'].values[0]"
   ]
  },
  {
   "cell_type": "code",
   "execution_count": 15,
   "id": "ab7a5053-f597-4747-a666-33ef255758ae",
   "metadata": {},
   "outputs": [],
   "source": [
    "# add capacity constraints\n",
    "for o in origins:\n",
    "    for d in destinations:\n",
    "        cap = freight_data.loc[(freight_data['Origin'] == o) & \n",
    "                               (freight_data['Destination'] == d), 'Capacity']\n",
    "        if not cap.empty:\n",
    "            model += pulp.lpSum([allocation_vars[(o, d, c)] for c in carriers]) <= cap.values[0]"
   ]
  },
  {
   "cell_type": "code",
   "execution_count": 17,
   "id": "5b7ec449-1098-4b47-8c80-94ae3bdd723f",
   "metadata": {},
   "outputs": [],
   "source": [
    "# add demand constraints\n",
    "for o in origins:\n",
    "    for d in destinations:\n",
    "        cap = freight_data.loc[(freight_data['Origin'] == o) & \n",
    "                               (freight_data['Destination'] == d), 'Demand']\n",
    "        if not cap.empty:\n",
    "            model += pulp.lpSum([allocation_vars[(o, d, c)] for c in carriers]) <= cap.values[0]"
   ]
  },
  {
   "cell_type": "code",
   "execution_count": 18,
   "id": "2f9f676f-46e3-4a13-9cb3-a67ebd7e05f6",
   "metadata": {},
   "outputs": [
    {
     "name": "stdout",
     "output_type": "stream",
     "text": [
      "Welcome to the CBC MILP Solver \n",
      "Version: 2.10.3 \n",
      "Build Date: Dec 15 2019 \n",
      "\n",
      "command line - /opt/conda/lib/python3.7/site-packages/pulp/solverdir/cbc/linux/64/cbc /tmp/1fbba101f9bc4bb18f2d68b1ad54b97f-pulp.mps timeMode elapsed branch printingOptions all solution /tmp/1fbba101f9bc4bb18f2d68b1ad54b97f-pulp.sol (default strategy 1)\n",
      "At line 2 NAME          MODEL\n",
      "At line 3 ROWS\n",
      "At line 24 COLUMNS\n",
      "At line 293 RHS\n",
      "At line 313 BOUNDS\n",
      "At line 378 ENDATA\n",
      "Problem MODEL has 19 rows, 64 columns and 76 elements\n",
      "Coin0008I MODEL read with 0 errors\n",
      "Option for timeMode changed from cpu to elapsed\n",
      "Continuous objective value is 150 - 0.00 seconds\n",
      "Cgl0004I processed model has 0 rows, 0 columns (0 integer (0 of which binary)) and 0 elements\n",
      "Cbc3007W No integer variables - nothing to do\n",
      "Cuts at root node changed objective from 150 to -1.79769e+308\n",
      "Probing was tried 0 times and created 0 cuts of which 0 were active after adding rounds of cuts (0.000 seconds)\n",
      "Gomory was tried 0 times and created 0 cuts of which 0 were active after adding rounds of cuts (0.000 seconds)\n",
      "Knapsack was tried 0 times and created 0 cuts of which 0 were active after adding rounds of cuts (0.000 seconds)\n",
      "Clique was tried 0 times and created 0 cuts of which 0 were active after adding rounds of cuts (0.000 seconds)\n",
      "MixedIntegerRounding2 was tried 0 times and created 0 cuts of which 0 were active after adding rounds of cuts (0.000 seconds)\n",
      "FlowCover was tried 0 times and created 0 cuts of which 0 were active after adding rounds of cuts (0.000 seconds)\n",
      "TwoMirCuts was tried 0 times and created 0 cuts of which 0 were active after adding rounds of cuts (0.000 seconds)\n",
      "ZeroHalf was tried 0 times and created 0 cuts of which 0 were active after adding rounds of cuts (0.000 seconds)\n",
      "\n",
      "Result - Optimal solution found\n",
      "\n",
      "Objective value:                150.00000000\n",
      "Enumerated nodes:               0\n",
      "Total iterations:               0\n",
      "Time (CPU seconds):             0.00\n",
      "Time (Wallclock seconds):       0.00\n",
      "\n",
      "Option for printingOptions changed from normal to all\n",
      "Total time (CPU seconds):       0.00   (Wallclock seconds):       0.00\n",
      "\n"
     ]
    },
    {
     "data": {
      "text/plain": [
       "1"
      ]
     },
     "execution_count": 18,
     "metadata": {},
     "output_type": "execute_result"
    }
   ],
   "source": [
    "# solve the optimization problem\n",
    "model.solve()"
   ]
  },
  {
   "cell_type": "code",
   "execution_count": 19,
   "id": "c24a3249-b1cf-43ee-bf8e-0648a451cd03",
   "metadata": {},
   "outputs": [
    {
     "name": "stdout",
     "output_type": "stream",
     "text": [
      "Status: Optimal\n"
     ]
    }
   ],
   "source": [
    "# print the solution status\n",
    "print('Status:', pulp.LpStatus[model.status])"
   ]
  },
  {
   "cell_type": "code",
   "execution_count": 20,
   "id": "7107f73a-3a44-417c-8440-733371b5e95c",
   "metadata": {},
   "outputs": [
    {
     "name": "stdout",
     "output_type": "stream",
     "text": [
      "Allocate 150.0 units of freight from Origin1 to Destination1 with Carrier1\n"
     ]
    }
   ],
   "source": [
    "# print the optimized carrier allocation\n",
    "for o in origins:\n",
    "    for d in destinations:\n",
    "        for c in carriers:\n",
    "            if allocation_vars[(o, d, c)].value() != 0:\n",
    "                print('Allocate', allocation_vars[(o, d, c)].value(), 'units of freight from', o, 'to', d, 'with', c)\n"
   ]
  },
  {
   "cell_type": "code",
   "execution_count": null,
   "id": "6a58ca69-892b-4b67-aa59-9e65ab99b076",
   "metadata": {},
   "outputs": [],
   "source": []
  }
 ],
 "metadata": {
  "environment": {
   "kernel": "python3",
   "name": "common-cpu.m89",
   "type": "gcloud",
   "uri": "gcr.io/deeplearning-platform-release/base-cpu:m89"
  },
  "kernelspec": {
   "display_name": "Python 3",
   "language": "python",
   "name": "python3"
  },
  "language_info": {
   "codemirror_mode": {
    "name": "ipython",
    "version": 3
   },
   "file_extension": ".py",
   "mimetype": "text/x-python",
   "name": "python",
   "nbconvert_exporter": "python",
   "pygments_lexer": "ipython3",
   "version": "3.7.12"
  }
 },
 "nbformat": 4,
 "nbformat_minor": 5
}
