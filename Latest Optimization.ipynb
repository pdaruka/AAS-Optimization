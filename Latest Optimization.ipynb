{
 "cells": [
  {
   "cell_type": "code",
   "execution_count": 1,
   "id": "d47b842f-09f8-41ff-a8e9-39ea696d5ae0",
   "metadata": {},
   "outputs": [
    {
     "name": "stdout",
     "output_type": "stream",
     "text": [
      "Looking in indexes: https://artifactory-haproxy.service.intradsm1.consul.csnzoo.com:8099/artifactory/api/pypi/python/simple, https://artifactory-haproxy.service.intradsm1.consul.csnzoo.com:8099/artifactory/api/pypi/pypi-mirror/simple\n",
      "Requirement already satisfied: pulp in /opt/conda/lib/python3.7/site-packages (2.7.0)\n",
      "Note: you may need to restart the kernel to use updated packages.\n"
     ]
    }
   ],
   "source": [
    "pip install pulp"
   ]
  },
  {
   "cell_type": "code",
   "execution_count": 2,
   "id": "8b7e03ed-766d-4094-af26-57f446b88bab",
   "metadata": {},
   "outputs": [],
   "source": [
    "import pandas as pd\n",
    "import pulp"
   ]
  },
  {
   "cell_type": "code",
   "execution_count": 3,
   "id": "d124c52f-2e5d-40ec-8c75-ffbaf16ebea0",
   "metadata": {},
   "outputs": [],
   "source": [
    "# Define the problem variables\n",
    "origins = [\"origin1\", \"origin2\"]\n",
    "destinations = [\"destination1\", \"destination2\"]\n",
    "carriers = [\"carrier1\", \"carrier2\"]\n",
    "service_strings = [\"string1\", \"string2\"]\n",
    "weeks = [\"week1\", \"week2\"]\n",
    "costs = {(o, d, c): 100 for o in origins for d in destinations for c in carriers}  # replace with your actual cost data\n",
    "transit_times = {(o, d, s): 5 for o in origins for d in destinations for s in service_strings}  # replace with your actual transit time data\n",
    "capacities = {(o, d, c): 100 for o in origins for d in destinations for c in carriers}  # replace with your actual capacity data\n",
    "shipments = [{\"order_number\": 1, \"origin\": \"origin1\", \"destination\": \"destination1\", \"week\": \"week1\"},\n",
    "             {\"order_number\": 2, \"origin\": \"origin2\", \"destination\": \"destination2\", \"week\": \"week2\"}]"
   ]
  },
  {
   "cell_type": "code",
   "execution_count": 5,
   "id": "14875720-e0b1-4f8a-86da-8130d813206e",
   "metadata": {},
   "outputs": [],
   "source": [
    "# Define the optimization model\n",
    "model= pulp.LpProblem(\"Carrier Allocation Problem\", pulp.LpMinimize)"
   ]
  },
  {
   "cell_type": "code",
   "execution_count": 6,
   "id": "03bf2f5e-db5f-4c80-a4f3-35205a39a492",
   "metadata": {},
   "outputs": [],
   "source": [
    "# Define the decision variables\n",
    "x = pulp.LpVariable.dicts(\"ShipmentAllocation\", [(s[\"order_number\"], o, d, c, s[\"week\"]) for o in origins for d in destinations for c in carriers for s in shipments],\n",
    "                          lowBound=0, upBound=1, cat=pulp.LpInteger)"
   ]
  },
  {
   "cell_type": "code",
   "execution_count": 18,
   "id": "9bdc39ca-3b49-429c-aecf-40fb805f6b9d",
   "metadata": {},
   "outputs": [],
   "source": [
    "# Define the objective function\n",
    "model += pulp.lpSum([costs[(o, d, c)] * transit_times.get((o, d, s.get(\"week\", None), s.get(\"service\", \"\")), 0) * x[(s[\"order_number\"], o, d, c, s.get(\"week\", None))] for o in origins for d in destinations for c in carriers for s in shipments])"
   ]
  },
  {
   "cell_type": "code",
   "execution_count": 21,
   "id": "47999ccf-53ad-4408-9853-83c6ccc5753e",
   "metadata": {},
   "outputs": [],
   "source": [
    "# Define the constraints\n",
    "for o in origins:\n",
    "    for d in destinations:\n",
    "        for c in carriers:\n",
    "            model += pulp.lpSum([x[(s[\"order_number\"], o, d, c, s[\"week\"])] for s in shipments if s[\"origin\"] == o and s[\"destination\"] == d]) <= capacities[(o, d, c)] * 0.9\n",
    "for s in shipments:\n",
    "    model += pulp.lpSum([x[(s[\"order_number\"], o, d, c, s[\"week\"])] for c in carriers]) == 1\n",
    "    model += pulp.lpSum([transit_times[(o, d, s.get(\"week\", None), s.get(\"service\", \"\"))] * x[(s[\"order_number\"], o, d, c, s[\"week\"])] for c in carriers if (o, d, s.get(\"week\", None), s.get(\"service\", \"\")) in transit_times]) <= pulp.lpSum([transit_times[(o, d, s.get(\"week\", None), s.get(\"service\", \"\"))] * x[(s[\"order_number\"], o, d, c, s[\"week\"])] for c in carriers if (o, d, s.get(\"week\", None), s.get(\"service\", \"\")) in transit_times])\n",
    "    model += pulp.lpSum([costs[(o, d, c)] * transit_times[(o, d, s.get(\"week\", None), s.get(\"service\", \"\"))] * x[(s[\"order_number\"], o, d, c, s[\"week\"])] for c in carriers if (o, d, s.get(\"week\", None), s.get(\"service\", \"\")) in transit_times]) <= pulp.lpSum([costs[(o, d, c)] * transit_times[(o, d, s.get(\"week\", None), s.get(\"service\", \"\"))] * x[(s[\"order_number\"], o, d, c, s[\"week\"])] for c in carriers if (o, d, s.get(\"week\", None), s.get(\"service\", \"\")) in transit_times])\n",
    "    for c in carriers:\n",
    "        model += pulp.lpSum([x[(s[\"order_number\"], o, d, c, s[\"week\"])] for s in shipments if s[\"origin\"] == o and s[\"destination\"] == d]) <= capacities[(o, d, c)]"
   ]
  },
  {
   "cell_type": "code",
   "execution_count": 22,
   "id": "4c3003c7-b1e7-4cc1-8b0f-717d5f48cbb0",
   "metadata": {},
   "outputs": [
    {
     "name": "stdout",
     "output_type": "stream",
     "text": [
      "Welcome to the CBC MILP Solver \n",
      "Version: 2.10.3 \n",
      "Build Date: Dec 15 2019 \n",
      "\n",
      "command line - /opt/conda/lib/python3.7/site-packages/pulp/solverdir/cbc/linux/64/cbc /tmp/af8022b4ffc24248bdcfd3e92f653822-pulp.mps timeMode elapsed branch printingOptions all solution /tmp/af8022b4ffc24248bdcfd3e92f653822-pulp.sol (default strategy 1)\n",
      "At line 2 NAME          MODEL\n",
      "At line 3 ROWS\n",
      "At line 41 COLUMNS\n",
      "At line 79 RHS\n",
      "At line 116 BOUNDS\n",
      "At line 124 ENDATA\n",
      "Problem MODEL has 36 rows, 7 columns and 24 elements\n",
      "Coin0008I MODEL read with 0 errors\n",
      "Option for timeMode changed from cpu to elapsed\n",
      "Continuous objective value is 0 - 0.00 seconds\n",
      "Cgl0004I processed model has 0 rows, 0 columns (0 integer (0 of which binary)) and 0 elements\n",
      "Cbc3007W No integer variables - nothing to do\n",
      "Cuts at root node changed objective from 0 to -1.79769e+308\n",
      "Probing was tried 0 times and created 0 cuts of which 0 were active after adding rounds of cuts (0.000 seconds)\n",
      "Gomory was tried 0 times and created 0 cuts of which 0 were active after adding rounds of cuts (0.000 seconds)\n",
      "Knapsack was tried 0 times and created 0 cuts of which 0 were active after adding rounds of cuts (0.000 seconds)\n",
      "Clique was tried 0 times and created 0 cuts of which 0 were active after adding rounds of cuts (0.000 seconds)\n",
      "MixedIntegerRounding2 was tried 0 times and created 0 cuts of which 0 were active after adding rounds of cuts (0.000 seconds)\n",
      "FlowCover was tried 0 times and created 0 cuts of which 0 were active after adding rounds of cuts (0.000 seconds)\n",
      "TwoMirCuts was tried 0 times and created 0 cuts of which 0 were active after adding rounds of cuts (0.000 seconds)\n",
      "ZeroHalf was tried 0 times and created 0 cuts of which 0 were active after adding rounds of cuts (0.000 seconds)\n",
      "\n",
      "Result - Optimal solution found\n",
      "\n",
      "Objective value:                0.00000000\n",
      "Enumerated nodes:               0\n",
      "Total iterations:               0\n",
      "Time (CPU seconds):             0.00\n",
      "Time (Wallclock seconds):       0.00\n",
      "\n",
      "Option for printingOptions changed from normal to all\n",
      "Total time (CPU seconds):       0.00   (Wallclock seconds):       0.00\n",
      "\n"
     ]
    },
    {
     "data": {
      "text/plain": [
       "1"
      ]
     },
     "execution_count": 22,
     "metadata": {},
     "output_type": "execute_result"
    }
   ],
   "source": [
    "# Solve the optimization model\n",
    "model.solve()"
   ]
  },
  {
   "cell_type": "code",
   "execution_count": 36,
   "id": "a1341643-6c0b-421e-95ca-698c5b716bb6",
   "metadata": {},
   "outputs": [],
   "source": [
    "# Store the results in a separate list of pending shipments\n",
    "pending_shipments = []\n",
    "for s in shipments:\n",
    "    for o in origins:\n",
    "        for d in destinations:\n",
    "            for c in carriers:\n",
    "                for w in weeks:\n",
    "                    if (s[\"order_number\"], o, d, c, w) in x and x[(s[\"order_number\"], o, d, c, w)].value() == 1:\n",
    "                        pending_shipments.append({\n",
    "                            \"order_number\": s[\"order_number\"],\n",
    "                            \"origin\": o,\n",
    "                            \"destination\": d,\n",
    "                            \"carrier\": c,\n",
    "                            \"service_string\": \"some_service_string\",  # replace \"some_service_string\" with the actual service string selected by the optimization model\n",
    "                            \"week\": w\n",
    "                        })\n",
    "                        # you may also want to add other information such as the cost and transit time of the allocation"
   ]
  },
  {
   "cell_type": "code",
   "execution_count": 37,
   "id": "e8506b99-bbb5-4765-944d-372b2f3e6e23",
   "metadata": {},
   "outputs": [],
   "source": [
    "def get_service_strings(origin, destination):\n",
    "    \"\"\"\n",
    "    Returns a list of available service strings for a given origin and destination.\n",
    "    \"\"\"\n",
    "    if origin == \"origin1\" and destination == \"destination1\":\n",
    "        return [\"service_string1\", \"service_string2\", \"service_string3\"]\n",
    "    elif origin == \"origin2\" and destination == \"destination2\":\n",
    "        return [\"service_string4\", \"service_string5\"]\n",
    "    else:\n",
    "        return []"
   ]
  },
  {
   "cell_type": "code",
   "execution_count": 38,
   "id": "e722cceb-761f-4165-8add-324151255947",
   "metadata": {},
   "outputs": [],
   "source": [
    "from collections import namedtuple\n",
    "\n",
    "# define named tuple for x dictionary keys\n",
    "XKey = namedtuple(\"XKey\", [\"order_number\", \"origin\", \"destination\", \"carrier\", \"week\"])\n",
    "\n",
    "# create the x dictionary with named tuple keys\n",
    "x = {XKey(*k): v for k, v in x.items()}\n",
    "\n",
    "# loop through the shipments and allocate carriers\n",
    "pending_shipments = []\n",
    "\n",
    "for s in shipments:\n",
    "    o = s[\"origin\"]\n",
    "    d = s[\"destination\"]\n",
    "    w = s[\"week\"]\n",
    "    service_strings = get_service_strings(o, d)\n",
    "    for c in carriers:\n",
    "        # find the service string with the minimum transit time for the selected carrier\n",
    "        transit_time_dict = transit_times.get((o, d, w), {})\n",
    "        min_transit_time = min([transit_time_dict.get((c, s), float('inf')) for s in service_strings])\n",
    "        min_service_string = [s for s in service_strings if transit_time_dict.get((c, s), float('inf')) == min_transit_time][0]\n",
    "        if x[XKey(s[\"order_number\"], o, d, c, w)].value() == 1:\n",
    "            pending_shipments.append({\"order_number\": s[\"order_number\"], \"origin\": o, \"destination\": d, \"carrier\": c, \"service_string\": min_service_string, \"week\": w})\n",
    "            # append any additional information you want to include\n",
    "            "
   ]
  },
  {
   "cell_type": "code",
   "execution_count": 39,
   "id": "975bf956-924c-480b-a7d7-b9463db1c56b",
   "metadata": {},
   "outputs": [
    {
     "name": "stdout",
     "output_type": "stream",
     "text": [
      "   order_number   origin   destination   carrier   service_string   week\n",
      "0             2  origin2  destination2  carrier1  service_string4  week2\n"
     ]
    }
   ],
   "source": [
    "df_pending_shipments = pd.DataFrame(pending_shipments)\n",
    "print(df_pending_shipments)"
   ]
  },
  {
   "cell_type": "code",
   "execution_count": 26,
   "id": "2bb29e82-33f4-46a1-9645-1992e046ccfd",
   "metadata": {},
   "outputs": [
    {
     "name": "stdout",
     "output_type": "stream",
     "text": [
      "   order_number   origin   destination   carrier       service_string   week\n",
      "0             1  origin2  destination2  carrier1  some_service_string  week1\n",
      "1             2  origin2  destination2  carrier1  some_service_string  week2\n"
     ]
    }
   ],
   "source": [
    "df_pending_shipments = pd.DataFrame(pending_shipments)\n",
    "print(df_pending_shipments)"
   ]
  }
 ],
 "metadata": {
  "environment": {
   "kernel": "python3",
   "name": "common-cpu.m89",
   "type": "gcloud",
   "uri": "gcr.io/deeplearning-platform-release/base-cpu:m89"
  },
  "kernelspec": {
   "display_name": "Python 3",
   "language": "python",
   "name": "python3"
  },
  "language_info": {
   "codemirror_mode": {
    "name": "ipython",
    "version": 3
   },
   "file_extension": ".py",
   "mimetype": "text/x-python",
   "name": "python",
   "nbconvert_exporter": "python",
   "pygments_lexer": "ipython3",
   "version": "3.7.12"
  }
 },
 "nbformat": 4,
 "nbformat_minor": 5
}
